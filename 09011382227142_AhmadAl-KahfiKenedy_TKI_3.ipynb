{
 "cells": [
  {
   "cell_type": "code",
   "execution_count": 12,
   "id": "ffb07889-f9cf-4553-9240-35a140fff853",
   "metadata": {},
   "outputs": [
    {
     "name": "stdout",
     "output_type": "stream",
     "text": [
      "Requirement already satisfied: nltk in c:\\users\\user\\anaconda3\\envs\\stki\\lib\\site-packages (3.8.1)\n",
      "Requirement already satisfied: click in c:\\users\\user\\anaconda3\\envs\\stki\\lib\\site-packages (from nltk) (8.1.7)\n",
      "Requirement already satisfied: joblib in c:\\users\\user\\anaconda3\\envs\\stki\\lib\\site-packages (from nltk) (1.3.2)\n",
      "Requirement already satisfied: regex>=2021.8.3 in c:\\users\\user\\anaconda3\\envs\\stki\\lib\\site-packages (from nltk) (2023.10.3)\n",
      "Requirement already satisfied: tqdm in c:\\users\\user\\anaconda3\\envs\\stki\\lib\\site-packages (from nltk) (4.66.1)\n",
      "Requirement already satisfied: colorama in c:\\users\\user\\anaconda3\\envs\\stki\\lib\\site-packages (from click->nltk) (0.4.6)\n",
      "Note: you may need to restart the kernel to use updated packages.\n"
     ]
    }
   ],
   "source": [
    "pip install nltk"
   ]
  },
  {
   "cell_type": "code",
   "execution_count": 1,
   "id": "685d0c2f-871c-429f-91ef-0ef430cf9d2e",
   "metadata": {},
   "outputs": [
    {
     "name": "stdout",
     "output_type": "stream",
     "text": [
      "Number of lines in file is:  26\n"
     ]
    },
    {
     "data": {
      "text/plain": [
       "['pembukaan daftar wisuda dan pelaksanaan nya lebih baik umumkan di web tidak hanya di fakultas. \\n',\n",
       " '\\n',\n",
       " 'sehingga memudahkan mahasiswa yang ada di luar kota. \\n',\n",
       " '\\n',\n",
       " 'pelaksanaan wisuda sebaiknya terjadwal tidak tergantung pada kuota. \\n',\n",
       " '\\n',\n",
       " 'sehingga lebih cepat mendapat ijazah.\\n',\n",
       " '\\n',\n",
       " 'dalam setahun belakangan ini, pengaksesan KRS diganti ke SIAM (sebelumnya menggunaka SINERGI).\\n',\n",
       " '\\n',\n",
       " 'saat menggunakan inergi, fitur serta kecepatan akses sangat handal dan nyaman. \\n',\n",
       " '\\n',\n",
       " 'tapi setelah diganti menggunakan SIAM, keadaan berbaik menjadi buruk (lambat loading dan bahkan sampai logout dengan sendirinya).\\n',\n",
       " '\\n',\n",
       " '\"KRS tidak hanya berpengaruh bagi mahasiswa semester muda tapi juga keseluruhan\\xa0mahasiswa.\\n',\n",
       " '\\n',\n",
       " 'Assalamualaikum Wr.Wb.\\n',\n",
       " 'yang menjadi salah satu syarat untuk bisa ujian kompre ada sertifikat TOEIC.\\n',\n",
       " '\\n',\n",
       " 'sehingga jika belum lulus toeic maka tidak bisa melakukan ujian kompre.\\n',\n",
       " '\\n',\n",
       " 'saya rasa ini sangat menghambat teman-teman yang memang lemah dibidang bahasa inggris (atau yang kurang beruntung dalam ujian toeic-nya).\\n',\n",
       " '\\n',\n",
       " 'sehingga mereka tidak bisa fokus untuk ujian kompre-nya terima\\xa0kasih.\\n',\n",
       " '\\n',\n",
       " 'pak/bu dosen saya mau minta keringanan biaya proposional dan spp soalnya bu saya keberatant dengan biaya itu? terima kasih atas\\xa0perhatiannya.']"
      ]
     },
     "execution_count": 1,
     "metadata": {},
     "output_type": "execute_result"
    }
   ],
   "source": [
    "# ini akan membuka file\n",
    "file = open('kahfi1.txt', encoding='utf8')\n",
    "read = file.read()\n",
    "file.seek(0)\n",
    "read\n",
    "\n",
    " # untuk mendapatkan\n",
    "# jumlah baris\n",
    "# dalam file\n",
    "line = 1\n",
    "for word in read:\n",
    "    if word == '\\n':\n",
    "        line += 1\n",
    "print(\"Number of lines in file is: \", line)\n",
    " \n",
    "# membuat daftar untuk\n",
    "# menyimpan setiap baris sebagai\n",
    "# sebuah elemen dari daftar\n",
    "array = []\n",
    "for i in range(line):\n",
    "    array.append(file.readline())\n",
    " \n",
    "array"
   ]
  },
  {
   "cell_type": "code",
   "execution_count": 14,
   "id": "02bdf646-029a-4602-85bf-a7d71fbe00ac",
   "metadata": {},
   "outputs": [
    {
     "data": {
      "text/plain": [
       "'pembukaan daftar wisuda dan pelaksanaan nya lebih baik umumkan di web tidak hanya di fakultas  \\n\\nsehingga memudahkan mahasiswa yang ada di luar kota  \\n\\npelaksanaan wisuda sebaiknya terjadwal tidak tergantung pada kuota  \\n\\nsehingga lebih cepat mendapat ijazah \\n\\ndalam setahun belakangan ini  pengaksesan krs diganti ke siam  sebelumnya menggunaka sinergi  \\n\\nsaat menggunakan inergi  fitur serta kecepatan akses sangat handal dan nyaman  \\n\\ntapi setelah diganti menggunakan siam  keadaan berbaik menjadi buruk  lambat loading dan bahkan sampai logout dengan sendirinya  \\n\\n krs tidak hanya berpengaruh bagi mahasiswa semester muda tapi juga keseluruhan\\xa0mahasiswa \\n\\nassalamualaikum wr wb \\nyang menjadi salah satu syarat untuk bisa ujian kompre ada sertifikat toeic \\n\\nsehingga jika belum lulus toeic maka tidak bisa melakukan ujian kompre \\n\\nsaya rasa ini sangat menghambat teman teman yang memang lemah dibidang bahasa inggris  atau yang kurang beruntung dalam ujian toeic nya  \\n\\nsehingga mereka tidak bisa fokus untuk ujian kompre nya terima\\xa0kasih \\n\\npak bu dosen saya mau minta keringanan biaya proposional dan spp soalnya bu saya keberatant dengan biaya itu  terima kasih atas\\xa0perhatiannya '"
      ]
     },
     "execution_count": 14,
     "metadata": {},
     "output_type": "execute_result"
    }
   ],
   "source": [
    "punc = '''!()-[]{};:'\"\\, <>./?@#$%^&*_~'''\n",
    "for ele in read: \n",
    "\tif ele in punc: \n",
    "\t\tread = read.replace(ele, \" \") \n",
    "\t\t\n",
    "read\n",
    "\n",
    "# to maintain uniformity\n",
    "read=read.lower()\t\t\t\t \n",
    "read\n"
   ]
  },
  {
   "cell_type": "code",
   "execution_count": 15,
   "id": "e75b8acc-6d86-487f-9a11-d83767faa307",
   "metadata": {},
   "outputs": [],
   "source": [
    "def tokenize_words(file_contents):\n",
    "\t\"\"\"\n",
    "\tTokenizes the file contents.\n",
    "\t\n",
    "\tParameters\n",
    "\t----------\n",
    "\tfile_contents : list\n",
    "\t\tA list of strings containing the contents of the file.\n",
    "\t\n",
    "\tReturns\n",
    "\t-------\n",
    "\tlist\n",
    "\t\tA list of strings containing the contents of the file tokenized.\n",
    "\t\n",
    "\t\"\"\"\n",
    "\tresult = []\n",
    "\n",
    "\tfor i in range(len(file_contents)):\n",
    "\t\ttokenized = []\n",
    "\n",
    "\t\t# print(\"The row is \", file_contents[i])\n",
    "\n",
    "\t\t# split the line by spaces\n",
    "\t\ttokenized = file_contents[i].split()\n",
    "\n",
    "\t\tresult.append(tokenized)\n",
    "\n",
    "\treturn result"
   ]
  },
  {
   "cell_type": "code",
   "execution_count": 16,
   "id": "26c86d13-781d-4763-8999-d4af60667ad1",
   "metadata": {},
   "outputs": [
    {
     "name": "stderr",
     "output_type": "stream",
     "text": [
      "[nltk_data] Downloading package stopwords to\n",
      "[nltk_data]     C:\\Users\\user\\AppData\\Roaming\\nltk_data...\n",
      "[nltk_data]   Package stopwords is already up-to-date!\n"
     ]
    },
    {
     "name": "stdout",
     "output_type": "stream",
     "text": [
      "['pembukaan', 'daftar', 'wisuda', 'pelaksanaan', 'nya', 'umumkan', 'web', 'fakultas', 'memudahkan', 'mahasiswa', 'yang', 'kota', 'pelaksanaan', 'wisuda', 'terjadwal', 'tergantung', 'kuota', 'cepat', 'ijazah', 'setahun', 'pengaksesan', 'krs', 'diganti', 'siam', 'menggunaka', 'sinergi', 'inergi', 'fitur', 'kecepatan', 'akses', 'handal', 'nyaman', 'diganti', 'siam', 'berbaik', 'buruk', 'lambat', 'loading', 'logout', 'krs', 'berpengaruh', 'mahasiswa', 'semester', 'muda', 'mahasiswa', 'assalamualaikum', 'wr', 'wb', 'yang', 'salah', 'syarat', 'ujian', 'kompre', 'sertifikat', 'toeic', 'lulus', 'toeic', 'ujian', 'kompre', 'menghambat', 'teman', 'teman', 'yang', 'lemah', 'dibidang', 'bahasa', 'inggris', 'yang', 'beruntung', 'ujian', 'toeic', 'nya', 'fokus', 'ujian', 'kompre', 'nya', 'terima', 'kasih', 'dosen', 'keringanan', 'biaya', 'proposional', 'spp', 'keberatant', 'biaya', 'terima', 'kasih', 'perhatiannya']\n"
     ]
    }
   ],
   "source": [
    "import nltk\n",
    "from nltk.tokenize import word_tokenize\n",
    "from nltk.corpus import stopwords\n",
    "nltk.download('stopwords')\n",
    "\n",
    "for i in range(1):\n",
    "\t# this will convert\n",
    "\t# the word into tokens\n",
    "\ttext_tokens = word_tokenize(read)\n",
    "\n",
    "tokens_without_sw = [\n",
    "\tword for word in text_tokens if not word in stopwords.words()]\n",
    "\n",
    "print(tokens_without_sw)"
   ]
  },
  {
   "cell_type": "code",
   "execution_count": 17,
   "id": "258c3775-e953-4d65-963c-161103765e27",
   "metadata": {},
   "outputs": [
    {
     "data": {
      "text/plain": [
       "{'pembukaan': [1],\n",
       " 'daftar': [1],\n",
       " 'wisuda': [1, 1, 5, 5],\n",
       " 'pelaksanaan': [1, 1, 5, 5],\n",
       " 'nya': [1,\n",
       "  1,\n",
       "  1,\n",
       "  5,\n",
       "  5,\n",
       "  5,\n",
       "  9,\n",
       "  9,\n",
       "  9,\n",
       "  11,\n",
       "  11,\n",
       "  11,\n",
       "  13,\n",
       "  13,\n",
       "  13,\n",
       "  15,\n",
       "  15,\n",
       "  15,\n",
       "  22,\n",
       "  22,\n",
       "  22,\n",
       "  24,\n",
       "  24,\n",
       "  24,\n",
       "  26,\n",
       "  26,\n",
       "  26],\n",
       " 'umumkan': [1],\n",
       " 'web': [1],\n",
       " 'fakultas': [1],\n",
       " 'memudahkan': [3],\n",
       " 'mahasiswa': [3, 3, 3, 15, 15, 15],\n",
       " 'yang': [3, 3, 3, 3, 18, 18, 18, 18, 22, 22, 22, 22],\n",
       " 'kota': [3],\n",
       " 'muda': [3, 15],\n",
       " 'terjadwal': [5],\n",
       " 'tergantung': [5],\n",
       " 'kuota': [5],\n",
       " 'cepat': [7, 11],\n",
       " 'ijazah': [7],\n",
       " 'setahun': [9],\n",
       " 'pengaksesan': [9],\n",
       " 'krs': [9, 9, 15, 15],\n",
       " 'diganti': [9, 9, 13, 13],\n",
       " 'siam': [9, 9, 13, 13],\n",
       " 'menggunaka': [9, 11, 13],\n",
       " 'sinergi': [9],\n",
       " 'inergi': [9, 11],\n",
       " 'akses': [9, 11],\n",
       " 'fitur': [11],\n",
       " 'kecepatan': [11],\n",
       " 'handal': [11],\n",
       " 'nyaman': [11],\n",
       " 'berbaik': [13],\n",
       " 'buruk': [13],\n",
       " 'lambat': [13],\n",
       " 'loading': [13],\n",
       " 'logout': [13],\n",
       " 'berpengaruh': [15],\n",
       " 'semester': [15],\n",
       " 'assalamualaikum': [17],\n",
       " 'wr': [17],\n",
       " 'wb': [17],\n",
       " 'salah': [18],\n",
       " 'syarat': [18],\n",
       " 'ujian': [18, 18, 18, 18, 20, 20, 20, 20, 22, 22, 22, 22, 24, 24, 24, 24],\n",
       " 'kompre': [18, 18, 18, 20, 20, 20, 24, 24, 24],\n",
       " 'sertifikat': [18],\n",
       " 'toeic': [18, 18, 18, 20, 20, 20, 22, 22, 22],\n",
       " 'lulus': [20],\n",
       " 'menghambat': [22],\n",
       " 'teman': [22, 22],\n",
       " 'lemah': [22],\n",
       " 'dibidang': [22],\n",
       " 'bahasa': [22],\n",
       " 'inggris': [22],\n",
       " 'beruntung': [22],\n",
       " 'fokus': [24],\n",
       " 'terima': [24, 24, 26, 26],\n",
       " 'kasih': [24, 24, 26, 26],\n",
       " 'dosen': [26],\n",
       " 'keringanan': [26],\n",
       " 'biaya': [26, 26],\n",
       " 'proposional': [26],\n",
       " 'spp': [26],\n",
       " 'keberatant': [26],\n",
       " 'perhatiannya': [26]}"
      ]
     },
     "execution_count": 17,
     "metadata": {},
     "output_type": "execute_result"
    }
   ],
   "source": [
    "dict = {}\n",
    "\n",
    "for i in range(line):\n",
    "\tcheck = array[i].lower()\n",
    "\tfor item in tokens_without_sw:\n",
    "\n",
    "\t\tif item in check:\n",
    "\t\t\tif item not in dict:\n",
    "\t\t\t\tdict[item] = []\n",
    "\n",
    "\t\t\tif item in dict:\n",
    "\t\t\t\tdict[item].append(i+1)\n",
    "\n",
    "dict"
   ]
  },
  {
   "cell_type": "code",
   "execution_count": null,
   "id": "170cdc79-43fd-4702-8e95-fa181a34a080",
   "metadata": {},
   "outputs": [],
   "source": []
  }
 ],
 "metadata": {
  "kernelspec": {
   "display_name": "Python 3 (ipykernel)",
   "language": "python",
   "name": "python3"
  },
  "language_info": {
   "codemirror_mode": {
    "name": "ipython",
    "version": 3
   },
   "file_extension": ".py",
   "mimetype": "text/x-python",
   "name": "python",
   "nbconvert_exporter": "python",
   "pygments_lexer": "ipython3",
   "version": "3.8.18"
  }
 },
 "nbformat": 4,
 "nbformat_minor": 5
}
