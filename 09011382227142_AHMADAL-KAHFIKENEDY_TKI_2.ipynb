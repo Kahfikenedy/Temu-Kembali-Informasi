{
 "cells": [
  {
   "cell_type": "code",
   "execution_count": 61,
   "id": "ef40a6cd",
   "metadata": {},
   "outputs": [
    {
     "name": "stdout",
     "output_type": "stream",
     "text": [
      "Biodata\n",
      "Nama    : AHMAD AL-KAHFI KENEDY\n",
      "Nim     : 09011382227142\n",
      "Kelas   : SKU3\n",
      "Jurusan : SISTEM KOMPUTER\n"
     ]
    }
   ],
   "source": [
    "Nama = \"AHMAD AL-KAHFI KENEDY\"\n",
    "Nim =   \"09011382227142\"\n",
    "Kelas =\"SKU3\"\n",
    "Jurusan = \"SISTEM KOMPUTER\"\n",
    "print(\"Biodata\")\n",
    "print(\"Nama    :\", nama)\n",
    "print(\"Nim     :\", nim)\n",
    "print(\"Kelas   :\", kelas)\n",
    "print(\"Jurusan :\", jurusan)"
   ]
  },
  {
   "cell_type": "code",
   "execution_count": 62,
   "id": "0cf5ae01",
   "metadata": {},
   "outputs": [
    {
     "name": "stdout",
     "output_type": "stream",
     "text": [
      "Requirement already satisfied: nltk in c:\\users\\user\\anaconda3\\lib\\site-packages (3.7)\n",
      "Requirement already satisfied: regex>=2021.8.3 in c:\\users\\user\\anaconda3\\lib\\site-packages (from nltk) (2022.7.9)\n",
      "Requirement already satisfied: tqdm in c:\\users\\user\\anaconda3\\lib\\site-packages (from nltk) (4.64.1)\n",
      "Requirement already satisfied: joblib in c:\\users\\user\\anaconda3\\lib\\site-packages (from nltk) (1.1.0)\n",
      "Requirement already satisfied: click in c:\\users\\user\\anaconda3\\lib\\site-packages (from nltk) (8.0.4)\n",
      "Requirement already satisfied: colorama in c:\\users\\user\\anaconda3\\lib\\site-packages (from click->nltk) (0.4.5)\n",
      "Note: you may need to restart the kernel to use updated packages.\n"
     ]
    }
   ],
   "source": [
    "pip install nltk"
   ]
  },
  {
   "cell_type": "code",
   "execution_count": 63,
   "id": "5216b75d",
   "metadata": {},
   "outputs": [
    {
     "name": "stdout",
     "output_type": "stream",
     "text": [
      "Requirement already satisfied: sastrawi in c:\\users\\user\\anaconda3\\lib\\site-packages (1.0.1)\n",
      "Note: you may need to restart the kernel to use updated packages.\n"
     ]
    }
   ],
   "source": [
    "pip install sastrawi"
   ]
  },
  {
   "cell_type": "markdown",
   "id": "da6b1f62",
   "metadata": {},
   "source": [
    "# Dasar Text-Preprocessing dengan Python#\n",
    "Text data needs to be cleaned and encoded to numerical values before giving them to machine learning models, this process of cleaning and encoding is called as text preprocessing.\n",
    "\n",
    "## Case Folding: Lowercase ##\n",
    "Merubah format teks menjadi format huruf kecil semua (lowercase)."
   ]
  },
  {
   "cell_type": "code",
   "execution_count": 64,
   "id": "9b0680eb",
   "metadata": {},
   "outputs": [
    {
     "name": "stdout",
     "output_type": "stream",
     "text": [
      "pembukaan daftar wisuda dan pelaksanaan nya lebih baik umumkan di web tidak hanya di fakultas. sehingga memudahkan mahasiswa yang ada di luar kota. pelaksanaan wisuda sebaiknya terjadwal tidak tergantung pada kuota. sehingga lebih cepat mendapat ijazah.\n"
     ]
    }
   ],
   "source": [
    "kalimat = \"pembukaan daftar wisuda dan pelaksanaan nya lebih baik umumkan di web tidak hanya di fakultas. sehingga memudahkan mahasiswa yang ada di luar kota. pelaksanaan wisuda sebaiknya terjadwal tidak tergantung pada kuota. sehingga lebih cepat mendapat ijazah.\"\n",
    "lower_case = kalimat.lower()\n",
    "print(lower_case)"
   ]
  },
  {
   "cell_type": "markdown",
   "id": "9c23b6fc",
   "metadata": {},
   "source": [
    "## Case Folding: Removing Number ##\n",
    "Menghapus karakter angka."
   ]
  },
  {
   "cell_type": "code",
   "execution_count": 65,
   "id": "dd735efa",
   "metadata": {},
   "outputs": [
    {
     "name": "stdout",
     "output_type": "stream",
     "text": [
      "pembukaan daftar wisuda dan pelaksanaan nya lebih baik umumkan di web tidak hanya di fakultas. sehingga memudahkan mahasiswa yang ada di luar kota. pelaksanaan wisuda sebaiknya terjadwal tidak tergantung pada kuota. sehingga lebih cepat mendapat ijazah.\n"
     ]
    }
   ],
   "source": [
    "import re\n",
    "\n",
    "kalimat = \"pembukaan daftar wisuda dan pelaksanaan nya lebih baik umumkan di web tidak hanya di fakultas. sehingga memudahkan mahasiswa yang ada di luar kota. pelaksanaan wisuda sebaiknya terjadwal tidak tergantung pada kuota. sehingga lebih cepat mendapat ijazah.\"\n",
    "hasil = re.sub(r\"\\d+\", \"\", kalimat)\n",
    "print(hasil)"
   ]
  },
  {
   "cell_type": "markdown",
   "id": "895bdc15",
   "metadata": {},
   "source": [
    "## Case Folding: Removing Punctuation ##\n",
    "Menghapus karakter tanda baca."
   ]
  },
  {
   "cell_type": "code",
   "execution_count": 66,
   "id": "1fe0fdb3",
   "metadata": {},
   "outputs": [
    {
     "name": "stdout",
     "output_type": "stream",
     "text": [
      "pembukaaa dan daftar contoh kalimat dengan tanda baca\n"
     ]
    }
   ],
   "source": [
    "import string\n",
    "\n",
    "kalimat = \"pembukaaa dan daftar [contoh] kalimat? {dengan} tanda. baca?!!\"\n",
    "hasil = kalimat.translate(str.maketrans(\"\",\"\",string.punctuation))\n",
    "print(hasil)"
   ]
  },
  {
   "cell_type": "markdown",
   "id": "e5cb8fc0",
   "metadata": {},
   "source": [
    "## Case Folding: Removing Whitespace ##\n",
    "Menghapus karakter kosong."
   ]
  },
  {
   "cell_type": "code",
   "execution_count": 67,
   "id": "8bc35f39",
   "metadata": {},
   "outputs": [
    {
     "name": "stdout",
     "output_type": "stream",
     "text": [
      "pembukaan kalimat contoh\n"
     ]
    }
   ],
   "source": [
    "kalimat = \" \\t pembukaan kalimat contoh\\t \"\n",
    "hasil = kalimat.strip()\n",
    "print(hasil)"
   ]
  },
  {
   "cell_type": "markdown",
   "id": "c11f6998",
   "metadata": {},
   "source": [
    "## Separating Sentences with Split () Method ##\n",
    "Fungsi `split()` memisahkan _string_ ke dalam _list_ dengan spasi sebagai pemisah jika tidak ditentukan pemisahnya.\n",
    "\n",
    "https://www.w3schools.com/python/ref_string_split.asp"
   ]
  },
  {
   "cell_type": "code",
   "execution_count": 68,
   "id": "ced517a4",
   "metadata": {},
   "outputs": [
    {
     "name": "stdout",
     "output_type": "stream",
     "text": [
      "['dalam', 'setahun', 'belakangan', 'ini', 'pengaksesan', 'KRS', 'diganti', 'ke', 'SIAM', '(sebelumnya', 'menggunakan', 'SINERGI)', 'saat', 'menggunakan', 'sinergi', 'fitur', 'serta', 'kecepatan', 'akses', 'sangat', 'handal', 'dan', 'nyaman', 'tapi', 'setelah', 'diganti', 'menggunakan', 'SIAM', 'keadaan', 'berbalik', 'menjadi', 'buruk', '(lambat', 'loading', 'dan', 'bahkan', 'sampai', 'logout', 'dengan', 'sendirinya)', 'KRS', 'tidak', 'hanya', 'berpengaruh', 'bagi', 'mahasiswa', 'semester', 'muda', 'tapi', 'juga', 'keseluruhan', 'mahasiswa']\n"
     ]
    }
   ],
   "source": [
    "kalimat = \"dalam setahun belakangan ini pengaksesan KRS diganti ke SIAM (sebelumnya menggunakan SINERGI) saat menggunakan sinergi fitur serta kecepatan akses sangat handal dan nyaman tapi setelah diganti menggunakan SIAM keadaan berbalik menjadi buruk (lambat loading dan bahkan sampai logout dengan sendirinya) KRS tidak hanya berpengaruh bagi mahasiswa semester muda tapi juga keseluruhan mahasiswa\"\n",
    "pisah = kalimat.split()\n",
    "print(pisah)"
   ]
  },
  {
   "cell_type": "code",
   "execution_count": 69,
   "id": "205cd7a7",
   "metadata": {},
   "outputs": [
    {
     "name": "stdout",
     "output_type": "stream",
     "text": [
      "showing info https://raw.githubusercontent.com/nltk/nltk_data/gh-pages/index.xml\n"
     ]
    },
    {
     "data": {
      "text/plain": [
       "True"
      ]
     },
     "execution_count": 69,
     "metadata": {},
     "output_type": "execute_result"
    }
   ],
   "source": [
    "#https://www.nltk.org/data.html\n",
    "import nltk\n",
    "nltk.download()"
   ]
  },
  {
   "cell_type": "markdown",
   "id": "7b6911d7",
   "metadata": {},
   "source": [
    "## Tokenizing: Word Tokenizing Using NLTK Module ##\n",
    "Menggunakan _library_ NLTK untuk memisahkan kata dalam sebuah kalimat. \n"
   ]
  },
  {
   "cell_type": "code",
   "execution_count": 70,
   "id": "18f77e32",
   "metadata": {},
   "outputs": [
    {
     "name": "stdout",
     "output_type": "stream",
     "text": [
      "['Assalamualaikum', '.', 'Wb', '.', 'yang', 'menjadi', 'salah', 'satu', 'syarat', 'untuk', 'bisa', 'ujian', 'kompre', 'ada', 'sertifikat', 'TOEIC', ',', 'sehingga', 'jika', 'belum', 'lulus', 'toeic', 'maka', 'tidak', 'bisa', 'melakukan', 'ujian', 'kompre', '.', 'saya', 'rasa', 'ini', 'sangat', 'menghambat', 'teman-teman', 'yang', 'memang', 'lemah', 'dibidang', 'bahasa', 'inggris', '(', 'atau', 'yang', 'kurang', 'beruntung', 'dalam', 'ujian', 'toeic-nya', ')', '.', 'sehingga', 'mereka', 'tidak', 'bisa', 'fokus', 'untuk', 'ujian', 'kompre-nya', '.', 'terima', 'kasih']\n"
     ]
    }
   ],
   "source": [
    "import nltk\n",
    "from nltk.tokenize import word_tokenize \n",
    " \n",
    "kalimat = \"Assalamualaikum . Wb. yang menjadi salah satu syarat untuk bisa ujian kompre ada sertifikat TOEIC, sehingga jika belum lulus toeic maka tidak bisa melakukan ujian kompre. saya rasa ini sangat menghambat teman-teman yang memang lemah dibidang bahasa inggris (atau yang kurang beruntung dalam ujian toeic-nya). sehingga mereka tidak bisa fokus untuk ujian kompre-nya. terima kasih\"\n",
    "\n",
    "tokens = nltk.tokenize.word_tokenize(kalimat)\n",
    "print(tokens)"
   ]
  },
  {
   "cell_type": "code",
   "execution_count": 71,
   "id": "231193ef",
   "metadata": {},
   "outputs": [
    {
     "name": "stdout",
     "output_type": "stream",
     "text": [
      "['pak/bu', 'dosen', 'saya', 'mau', 'minta', 'keringanan', 'biaya', 'proposional', 'dan', 'spp', ',', 'soalnya', 'bu', 'saya', 'keberatan', 'dengan', 'biaya', 'itu', '?', 'terima', 'kasih', 'atas', 'perhatiannya', '.']\n"
     ]
    }
   ],
   "source": [
    "import nltk\n",
    "from nltk.tokenize import word_tokenize\n",
    "\n",
    "# Sample text for tokenization\n",
    "sample_text = \"pak/bu dosen saya mau minta keringanan biaya proposional dan spp ,soalnya bu saya keberatan dengan biaya itu? terima kasih atas perhatiannya.\"\n",
    "\n",
    "# Tokenize the text into words\n",
    "words = word_tokenize(sample_text)\n",
    "\n",
    "# Print the tokenized words\n",
    "print(words)"
   ]
  },
  {
   "cell_type": "markdown",
   "id": "6004f47e",
   "metadata": {},
   "source": [
    "## Tokenizing with Case Folding ##\n",
    "Menggabungkan teknik _Case Foling_ dengan _Tokenizing_."
   ]
  },
  {
   "cell_type": "code",
   "execution_count": 72,
   "id": "2e635351",
   "metadata": {},
   "outputs": [
    {
     "name": "stdout",
     "output_type": "stream",
     "text": [
      "['assalamualaikum', 'wb', 'yang', 'menjadi', 'salah', 'satu', 'syarat', 'untuk', 'bisa', 'ujian', 'kompre', 'ada', 'sertifikat', 'toeic', 'sehingga', 'jika', 'belum', 'lulus', 'toeic', 'maka', 'tidak', 'bisa', 'melakukan', 'ujian', 'kompre', 'saya', 'rasa', 'ini', 'sangat', 'menghambat', 'temanteman', 'yang', 'memang', 'lemah', 'dibidang', 'bahasa', 'inggris', 'atau', 'yang', 'kurang', 'beruntung', 'dalam', 'ujian', 'toeicnya', 'sehingga', 'mereka', 'tidak', 'bisa', 'fokus', 'untuk', 'ujian', 'komprenya', 'terima', 'kasih']\n"
     ]
    }
   ],
   "source": [
    "import string\n",
    "from nltk.tokenize import word_tokenize \n",
    " \n",
    "kalimat = \"Assalamualaikum . Wb. yang menjadi salah satu syarat untuk bisa ujian kompre ada sertifikat TOEIC, sehingga jika belum lulus toeic maka tidak bisa melakukan ujian kompre. saya rasa ini sangat menghambat teman-teman yang memang lemah dibidang bahasa inggris (atau yang kurang beruntung dalam ujian toeic-nya). sehingga mereka tidak bisa fokus untuk ujian kompre-nya. terima kasih.\"\n",
    "kalimat = kalimat.translate(str.maketrans('','',string.punctuation)).lower()\n",
    " \n",
    "tokens = nltk.tokenize.word_tokenize(kalimat)\n",
    "print(tokens)"
   ]
  },
  {
   "cell_type": "markdown",
   "id": "a39171de",
   "metadata": {},
   "source": [
    "## Frequency Distribution ##\n",
    "Menghitung frekuensi kemunculan setiap tokens(kata) dalam teks."
   ]
  },
  {
   "cell_type": "code",
   "execution_count": 73,
   "id": "70fdf7f7",
   "metadata": {},
   "outputs": [
    {
     "name": "stdout",
     "output_type": "stream",
     "text": [
      "[('ujian', 4), ('yang', 3), ('bisa', 3), ('untuk', 2), ('kompre', 2), ('toeic', 2), ('sehingga', 2), ('tidak', 2), ('assalamualaikum', 1), ('wb', 1), ('menjadi', 1), ('salah', 1), ('satu', 1), ('syarat', 1), ('ada', 1), ('sertifikat', 1), ('jika', 1), ('belum', 1), ('lulus', 1), ('maka', 1), ('melakukan', 1), ('saya', 1), ('rasa', 1), ('ini', 1), ('sangat', 1), ('menghambat', 1), ('temanteman', 1), ('memang', 1), ('lemah', 1), ('dibidang', 1), ('bahasa', 1), ('inggris', 1), ('atau', 1), ('kurang', 1), ('beruntung', 1), ('dalam', 1), ('toeicnya', 1), ('mereka', 1), ('fokus', 1), ('komprenya', 1), ('terima', 1), ('kasih', 1)]\n"
     ]
    }
   ],
   "source": [
    "from nltk.tokenize import word_tokenize\n",
    "from nltk.probability import FreqDist\n",
    "\n",
    "kalimat = \"Assalamualaikum . Wb. yang menjadi salah satu syarat untuk bisa ujian kompre ada sertifikat TOEIC, sehingga jika belum lulus toeic maka tidak bisa melakukan ujian kompre. saya rasa ini sangat menghambat teman-teman yang memang lemah dibidang bahasa inggris (atau yang kurang beruntung dalam ujian toeic-nya). sehingga mereka tidak bisa fokus untuk ujian kompre-nya. terima kasih.\"\n",
    "kalimat = kalimat.translate(str.maketrans('','',string.punctuation)).lower()\n",
    " \n",
    "tokens = nltk.tokenize.word_tokenize(kalimat)\n",
    "kemunculan = nltk.FreqDist(tokens)\n",
    "print(kemunculan.most_common())"
   ]
  },
  {
   "cell_type": "markdown",
   "id": "11232f28",
   "metadata": {},
   "source": [
    "## Frequency Distribution Visualization with Matplotlib ##\n",
    "Untuk menggambarkan frekuensi kemunculan setiap tokens dapat menggunakan _library_ __matplotlib__ pada Python.\n",
    "\n",
    "https://matplotlib.org"
   ]
  },
  {
   "cell_type": "code",
   "execution_count": 74,
   "id": "88443cb5",
   "metadata": {},
   "outputs": [
    {
     "data": {
      "image/png": "[encoded data removed]",
      "text/plain": [
       "<Figure size 640x480 with 1 Axes>"
      ]
     },
     "metadata": {},
     "output_type": "display_data"
    }
   ],
   "source": [
    "import matplotlib.pyplot as plt\n",
    "\n",
    "kemunculan.plot(30,cumulative=False)\n",
    "plt.show()"
   ]
  },
  {
   "cell_type": "markdown",
   "id": "52b027d2",
   "metadata": {},
   "source": [
    "## Tokenizing: Sentences Tokenizing Using NLTK Module ##\n",
    "Memisahkan kalimat dalam sebuah paragraf."
   ]
  },
  {
   "cell_type": "code",
   "execution_count": 75,
   "id": "4f5534e5",
   "metadata": {},
   "outputs": [
    {
     "name": "stdout",
     "output_type": "stream",
     "text": [
      "['Assalamualaikum', '.', 'Wb', '.', 'yang', 'menjadi', 'salah', 'satu', 'syarat', 'untuk', 'bisa', 'ujian', 'kompre', 'ada', 'sertifikat', 'TOEIC', ',', 'sehingga', 'jika', 'belum', 'lulus', 'toeic', 'maka', 'tidak', 'bisa', 'melakukan', 'ujian', 'kompre', '.', 'saya', 'rasa', 'ini', 'sangat', 'menghambat', 'teman-teman', 'yang', 'memang', 'lemah', 'dibidang', 'bahasa', 'inggris', '(', 'atau', 'yang', 'kurang', 'beruntung', 'dalam', 'ujian', 'toeic-nya', ')', '.', 'sehingga', 'mereka', 'tidak', 'bisa', 'fokus', 'untuk', 'ujian', 'kompre-nya', '.', 'terima', 'kasih', '.']\n"
     ]
    }
   ],
   "source": [
    "from nltk.tokenize import word_tokenize \n",
    "\n",
    "kalimat = \"Assalamualaikum . Wb. yang menjadi salah satu syarat untuk bisa ujian kompre ada sertifikat TOEIC, sehingga jika belum lulus toeic maka tidak bisa melakukan ujian kompre. saya rasa ini sangat menghambat teman-teman yang memang lemah dibidang bahasa inggris (atau yang kurang beruntung dalam ujian toeic-nya). sehingga mereka tidak bisa fokus untuk ujian kompre-nya. terima kasih.\"\n",
    " \n",
    "tokens = word_tokenize(kalimat)\n",
    "print(tokens)"
   ]
  },
  {
   "cell_type": "markdown",
   "id": "18f6c8d0",
   "metadata": {},
   "source": [
    "## Filtering using NLTK ##"
   ]
  },
  {
   "cell_type": "code",
   "execution_count": 76,
   "id": "7635d52f",
   "metadata": {},
   "outputs": [
    {
     "name": "stdout",
     "output_type": "stream",
     "text": [
      "['assalamualaikum', 'wb', 'salah', 'syarat', 'ujian', 'kompre', 'sertifikat', 'toeic', 'lulus', 'toeic', 'ujian', 'kompre', 'menghambat', 'temanteman', 'lemah', 'dibidang', 'bahasa', 'inggris', 'beruntung', 'ujian', 'toeicnya', 'fokus', 'ujian', 'komprenya', 'terima', 'kasih']\n"
     ]
    }
   ],
   "source": [
    "from nltk.tokenize import sent_tokenize, word_tokenize\n",
    "from nltk.corpus import stopwords\n",
    " \n",
    "kalimat = \"Assalamualaikum . Wb. yang menjadi salah satu syarat untuk bisa ujian kompre ada sertifikat TOEIC, sehingga jika belum lulus toeic maka tidak bisa melakukan ujian kompre. saya rasa ini sangat menghambat teman-teman yang memang lemah dibidang bahasa inggris (atau yang kurang beruntung dalam ujian toeic-nya). sehingga mereka tidak bisa fokus untuk ujian kompre-nya. terima kasih.\"\n",
    "kalimat = kalimat.translate(str.maketrans('','',string.punctuation)).lower()\n",
    " \n",
    "tokens = word_tokenize(kalimat)\n",
    "listStopword = set(stopwords.words('indonesian'))\n",
    " \n",
    "removed = []\n",
    "for t in tokens:\n",
    "    if t not in listStopword:\n",
    "        removed.append(t)\n",
    " \n",
    "print(removed)"
   ]
  },
  {
   "cell_type": "markdown",
   "id": "0ef57f12",
   "metadata": {},
   "source": [
    "## Filtering using Sastrawi: Stopword List ##\n",
    "Melihat daftar _stopword_ pada Sastrawi."
   ]
  },
  {
   "cell_type": "code",
   "execution_count": 77,
   "id": "172e43db",
   "metadata": {},
   "outputs": [
    {
     "name": "stdout",
     "output_type": "stream",
     "text": [
      "['yang', 'untuk', 'pada', 'ke', 'para', 'namun', 'menurut', 'antara', 'dia', 'dua', 'ia', 'seperti', 'jika', 'jika', 'sehingga', 'kembali', 'dan', 'tidak', 'ini', 'karena', 'kepada', 'oleh', 'saat', 'harus', 'sementara', 'setelah', 'belum', 'kami', 'sekitar', 'bagi', 'serta', 'di', 'dari', 'telah', 'sebagai', 'masih', 'hal', 'ketika', 'adalah', 'itu', 'dalam', 'bisa', 'bahwa', 'atau', 'hanya', 'kita', 'dengan', 'akan', 'juga', 'ada', 'mereka', 'sudah', 'saya', 'terhadap', 'secara', 'agar', 'lain', 'anda', 'begitu', 'mengapa', 'kenapa', 'yaitu', 'yakni', 'daripada', 'itulah', 'lagi', 'maka', 'tentang', 'demi', 'dimana', 'kemana', 'pula', 'sambil', 'sebelum', 'sesudah', 'supaya', 'guna', 'kah', 'pun', 'sampai', 'sedangkan', 'selagi', 'sementara', 'tetapi', 'apakah', 'kecuali', 'sebab', 'selain', 'seolah', 'seraya', 'seterusnya', 'tanpa', 'agak', 'boleh', 'dapat', 'dsb', 'dst', 'dll', 'dahulu', 'dulunya', 'anu', 'demikian', 'tapi', 'ingin', 'juga', 'nggak', 'mari', 'nanti', 'melainkan', 'oh', 'ok', 'seharusnya', 'sebetulnya', 'setiap', 'setidaknya', 'sesuatu', 'pasti', 'saja', 'toh', 'ya', 'walau', 'tolong', 'tentu', 'amat', 'apalagi', 'bagaimanapun']\n"
     ]
    }
   ],
   "source": [
    "from Sastrawi.StopWordRemover.StopWordRemoverFactory import StopWordRemoverFactory\n",
    " \n",
    "factory = StopWordRemoverFactory()\n",
    "stopwords = factory.get_stop_words()\n",
    "print(stopwords)"
   ]
  },
  {
   "cell_type": "markdown",
   "id": "70b166c1",
   "metadata": {},
   "source": [
    "## Filtering using Sastrawi ##"
   ]
  },
  {
   "cell_type": "code",
   "execution_count": 78,
   "id": "a64219b5",
   "metadata": {},
   "outputs": [
    {
     "name": "stdout",
     "output_type": "stream",
     "text": [
      "['assalamualaikum', 'wb', 'menjadi', 'salah', 'satu', 'syarat', 'ujian', 'kompre', 'sertifikat', 'toeic', 'jika', 'lulus', 'toeic', 'bisa', 'melakukan', 'ujian', 'kompre', 'rasa', 'sangat', 'menghambat', 'temanteman', 'memang', 'lemah', 'dibidang', 'bahasa', 'inggris', 'yang', 'kurang', 'beruntung', 'ujian', 'toeicnya', 'mereka', 'tidak', 'bisa', 'fokus', 'ujian', 'komprenya', 'terima', 'kasih']\n"
     ]
    }
   ],
   "source": [
    "from Sastrawi.StopWordRemover.StopWordRemoverFactory import StopWordRemoverFactory\n",
    "from nltk.tokenize import word_tokenize\n",
    "\n",
    "\n",
    "factory = StopWordRemoverFactory()\n",
    "stopword = factory.create_stop_word_remover()\n",
    "\n",
    "kalimat = \"Assalamualaikum . Wb. yang menjadi salah satu syarat untuk bisa ujian kompre ada sertifikat TOEIC, sehingga jika belum lulus toeic maka tidak bisa melakukan ujian kompre. saya rasa ini sangat menghambat teman-teman yang memang lemah dibidang bahasa inggris (atau yang kurang beruntung dalam ujian toeic-nya). sehingga mereka tidak bisa fokus untuk ujian kompre-nya. terima kasih.\"\n",
    "kalimat = kalimat.translate(str.maketrans('','',string.punctuation)).lower()\n",
    "\n",
    "stop = stopword.remove(kalimat)\n",
    "tokens = nltk.tokenize.word_tokenize(stop)\n",
    "\n",
    "print(tokens)"
   ]
  },
  {
   "cell_type": "markdown",
   "id": "705746f6",
   "metadata": {},
   "source": [
    "## Add Custom Stopword ##\n",
    "Menambahkan kata di _stopword_ untuk dihilangkan pada sebuah teks."
   ]
  },
  {
   "cell_type": "code",
   "execution_count": 79,
   "id": "8db36906",
   "metadata": {},
   "outputs": [
    {
     "name": "stdout",
     "output_type": "stream",
     "text": [
      "['andi', 'kerap', 'melakukan', 'transaksi', 'rutin', 'daring', 'andi', 'belanja', 'online', 'lebih', 'praktis', 'murah']\n"
     ]
    }
   ],
   "source": [
    "import string\n",
    "import nltk\n",
    "from Sastrawi.StopWordRemover.StopWordRemoverFactory import StopWordRemoverFactory, ArrayDictionary\n",
    "from Sastrawi.StopWordRemover.StopWordRemover import StopWordRemover  # Import StopWordRemover\n",
    "\n",
    "# ambil stopword bawaan\n",
    "stop_factory = StopWordRemoverFactory().get_stop_words()\n",
    "more_stopword = ['daring', 'online']\n",
    "\n",
    "kalimat = \"Andi kerap melakukan transaksi rutin secara daring atau online. Menurut Andi belanja online lebih praktis & murah.\"\n",
    "kalimat = kalimat.translate(str.maketrans('', '', string.punctuation)).lower()\n",
    "\n",
    "# menggabungkan stopword\n",
    "data = stop_factory + more_stopword\n",
    "\n",
    "dictionary = ArrayDictionary(data)\n",
    "stopword_remover = StopWordRemover(dictionary)  # Menggunakan StopWordRemover\n",
    "tokens = nltk.tokenize.word_tokenize(stopword_remover.remove(kalimat))\n",
    "\n",
    "print(tokens)\n"
   ]
  },
  {
   "cell_type": "markdown",
   "id": "fccc1d9a",
   "metadata": {},
   "source": [
    "## Stemming : Porter Stemming Algorithm using NLTK ##\n",
    "\n",
    "https://tartarus.org/martin/PorterStemmer/index-old.html"
   ]
  },
  {
   "cell_type": "code",
   "execution_count": 80,
   "id": "510d5272",
   "metadata": {},
   "outputs": [
    {
     "name": "stdout",
     "output_type": "stream",
     "text": [
      "program  :  program\n",
      "programs  :  program\n",
      "programer  :  program\n",
      "programing  :  program\n",
      "programers  :  program\n"
     ]
    }
   ],
   "source": [
    "from nltk.stem import PorterStemmer    \n",
    "ps = PorterStemmer() \n",
    "\n",
    "kata = [\"program\", \"programs\", \"programer\", \"programing\", \"programers\"] \n",
    "  \n",
    "for k in kata: \n",
    "    print(k, \" : \", ps.stem(k))"
   ]
  },
  {
   "cell_type": "markdown",
   "id": "fa8683c8",
   "metadata": {},
   "source": [
    "## Stemming Bahasa Indonesia using Sastrawi ##"
   ]
  },
  {
   "cell_type": "code",
   "execution_count": 81,
   "id": "4012d84e",
   "metadata": {},
   "outputs": [
    {
     "name": "stdout",
     "output_type": "stream",
     "text": [
      "assalamualaikum wb yang jadi salah satu syarat untuk bisa uji kompre ada sertifikat toeic sehingga jika belum lulus toeic maka tidak bisa laku uji kompre saya rasa ini sangat hambat teman yang memang lemah bidang bahasa inggris atau yang kurang untung dalam uji toeic-nya sehingga mereka tidak bisa fokus untuk uji kompre-nya terima kasih\n"
     ]
    }
   ],
   "source": [
    "from Sastrawi.Stemmer.StemmerFactory import StemmerFactory\n",
    "factory = StemmerFactory()\n",
    "stemmer = factory.create_stemmer()\n",
    " \n",
    "kalimat = \"Assalamualaikum . Wb. yang menjadi salah satu syarat untuk bisa ujian kompre ada sertifikat TOEIC, sehingga jika belum lulus toeic maka tidak bisa melakukan ujian kompre. saya rasa ini sangat menghambat teman-teman yang memang lemah dibidang bahasa inggris (atau yang kurang beruntung dalam ujian toeic-nya). sehingga mereka tidak bisa fokus untuk ujian kompre-nya. terima kasih.\"\n",
    "\n",
    "hasil = stemmer.stem(kalimat)\n",
    "print(hasil)"
   ]
  }
 ],
 "metadata": {
  "kernelspec": {
   "display_name": "Python 3 (ipykernel)",
   "language": "python",
   "name": "python3"
  },
  "language_info": {
   "codemirror_mode": {
    "name": "ipython",
    "version": 3
   },
   "file_extension": ".py",
   "mimetype": "text/x-python",
   "name": "python",
   "nbconvert_exporter": "python",
   "pygments_lexer": "ipython3",
   "version": "3.9.13"
  }
 },
 "nbformat": 4,
 "nbformat_minor": 5
}
